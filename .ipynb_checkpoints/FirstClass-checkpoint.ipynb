{
 "cells": [
  {
   "cell_type": "code",
   "execution_count": 1,
   "id": "4ef776d3-a70f-453b-8a45-74eaa5191792",
   "metadata": {},
   "outputs": [
    {
     "name": "stdin",
     "output_type": "stream",
     "text": [
      "Enter your name:  Farhad Foysal\n"
     ]
    },
    {
     "name": "stdout",
     "output_type": "stream",
     "text": [
      "Hello, Farhad Foysal!\n"
     ]
    }
   ],
   "source": [
    "name = input(\"Enter your name: \")\n",
    "\n",
    "print(\"Hello, \" + name + \"!\")"
   ]
  },
  {
   "cell_type": "code",
   "execution_count": 1,
   "id": "e59a96cd-f943-4b4d-ab7a-1de4d0948a17",
   "metadata": {},
   "outputs": [
    {
     "name": "stdout",
     "output_type": "stream",
     "text": [
      "farhad foysal\n"
     ]
    }
   ],
   "source": [
    "print(\"farhad foysal\")\n"
   ]
  },
  {
   "cell_type": "code",
   "execution_count": 2,
   "id": "0f0d3712-2821-4275-b9f4-ca5b48a44b49",
   "metadata": {},
   "outputs": [
    {
     "name": "stdout",
     "output_type": "stream",
     "text": [
      "orange\n"
     ]
    }
   ],
   "source": [
    "# list / array in python\n",
    "fruits = [\"apple\",\"mango\",\"orange\"]\n",
    "print(fruits[2])"
   ]
  },
  {
   "cell_type": "code",
   "execution_count": 3,
   "id": "74fbf933-f1e4-4df6-a0fb-f0432fcaf3d1",
   "metadata": {},
   "outputs": [
    {
     "name": "stdout",
     "output_type": "stream",
     "text": [
      "apple\n"
     ]
    }
   ],
   "source": [
    "print(fruits[0])"
   ]
  },
  {
   "cell_type": "code",
   "execution_count": 4,
   "id": "5b187dce-f4b0-4163-bc87-862bf5e7a82c",
   "metadata": {},
   "outputs": [
    {
     "name": "stdout",
     "output_type": "stream",
     "text": [
      "11.5\n"
     ]
    }
   ],
   "source": [
    "#tupple\n",
    "coordinates = (10,11,12,15)\n",
    "coordinates = (11.5,17,\"farhad\",20)\n",
    "\n",
    "print(coordinates[0])"
   ]
  },
  {
   "cell_type": "code",
   "execution_count": 8,
   "id": "9db5cb44-d32b-4e61-ab77-a707fdd51c8e",
   "metadata": {},
   "outputs": [
    {
     "name": "stdout",
     "output_type": "stream",
     "text": [
      "5\n",
      "7\n",
      "9\n"
     ]
    }
   ],
   "source": [
    "#range\n",
    "numbers = range(5,10,2)\n",
    "\n",
    "for number in numbers:\n",
    "    print(number)\n",
    "\n"
   ]
  },
  {
   "cell_type": "code",
   "execution_count": 10,
   "id": "3e0f1e8a-8b54-451f-9941-c805cfdc9c20",
   "metadata": {},
   "outputs": [
    {
     "name": "stdout",
     "output_type": "stream",
     "text": [
      "[5, 6, 7, 8, 9]\n"
     ]
    }
   ],
   "source": [
    "#converting list\n",
    "numbers = range(5,10)\n",
    "print(list(numbers))\n"
   ]
  },
  {
   "cell_type": "code",
   "execution_count": 11,
   "id": "4c420446-8eac-477a-920b-93fb1708ddb1",
   "metadata": {},
   "outputs": [
    {
     "name": "stdout",
     "output_type": "stream",
     "text": [
      "5 6 7 8 9\n"
     ]
    }
   ],
   "source": [
    "#user star\n",
    "print(*numbers)"
   ]
  },
  {
   "cell_type": "code",
   "execution_count": 12,
   "id": "e2b75aa0-bb7e-4d9a-bf88-83c2628ac2a0",
   "metadata": {},
   "outputs": [
    {
     "name": "stdout",
     "output_type": "stream",
     "text": [
      "range(0, 10)\n"
     ]
    }
   ],
   "source": [
    "numbers = range(10)\n",
    "print(numbers)"
   ]
  },
  {
   "cell_type": "code",
   "execution_count": 13,
   "id": "faa1f33b-bf15-4971-ade7-2c9d988349c0",
   "metadata": {},
   "outputs": [
    {
     "name": "stdout",
     "output_type": "stream",
     "text": [
      "range(1, 10, 3)\n"
     ]
    }
   ],
   "source": [
    "numbers = range(1,10,3)\n",
    "print(numbers)"
   ]
  },
  {
   "cell_type": "code",
   "execution_count": 14,
   "id": "0d7a1ed3-f244-4deb-a7ef-91c862039dc0",
   "metadata": {},
   "outputs": [
    {
     "name": "stdout",
     "output_type": "stream",
     "text": [
      "{'name': 'farhad', 'age': 25}\n",
      "farhad\n"
     ]
    }
   ],
   "source": [
    "#mapping type\n",
    "person = {'name':'farhad','age':25}\n",
    "print(person)\n",
    "print(person['name'])"
   ]
  },
  {
   "cell_type": "code",
   "execution_count": 15,
   "id": "ee16c989-38f3-40bf-9045-a67c4dde3dc3",
   "metadata": {},
   "outputs": [
    {
     "name": "stdout",
     "output_type": "stream",
     "text": [
      "{1, 2, 3}\n"
     ]
    }
   ],
   "source": [
    "#Set types\n",
    "unique_numbers = {1,2,3}\n",
    "unique_numbers = {1, 2,2, 3,3,3}\n",
    "\n",
    "print(unique_numbers)"
   ]
  },
  {
   "cell_type": "code",
   "execution_count": 16,
   "id": "4941aa2a-213d-4bb6-b52c-26662577b6ae",
   "metadata": {},
   "outputs": [
    {
     "name": "stdout",
     "output_type": "stream",
     "text": [
      "frozenset({1, 2, 3})\n"
     ]
    }
   ],
   "source": [
    "#frozenset\n",
    "immutable_set = frozenset([1,2,3])\n",
    "\n",
    "immutable_set = frozenset([1, 2,2, 3,3,3])\n",
    "print(immutable_set)"
   ]
  },
  {
   "cell_type": "code",
   "execution_count": 19,
   "id": "02feca78-caab-463a-83a7-63f00b1f8989",
   "metadata": {},
   "outputs": [
    {
     "name": "stdout",
     "output_type": "stream",
     "text": [
      "None\n"
     ]
    }
   ],
   "source": [
    "is_active = True\n",
    "none = None\n",
    "\n",
    "print(none)"
   ]
  },
  {
   "cell_type": "code",
   "execution_count": 27,
   "id": "8ca02379-e149-43eb-8123-312472b16ea7",
   "metadata": {},
   "outputs": [
    {
     "name": "stdout",
     "output_type": "stream",
     "text": [
      "<class 'int'>\n"
     ]
    }
   ],
   "source": [
    "x = 10\n",
    "y = 10.5\n",
    "z = \"message\"\n",
    "boolean = True\n",
    "\n",
    "#print(type(x) type(y) type(z) type(boolean))\n",
    "print(type(x))"
   ]
  },
  {
   "cell_type": "code",
   "execution_count": 29,
   "id": "a2cfead2-3d95-4b99-afdd-e7c0e242dd9d",
   "metadata": {},
   "outputs": [
    {
     "name": "stdout",
     "output_type": "stream",
     "text": [
      "140724580770856\n",
      "140724580771016\n"
     ]
    }
   ],
   "source": [
    "a = 5\n",
    "initial_id = id(a)\n",
    "print(initial_id)\n",
    "\n",
    "a = 10\n",
    "new_id = id(a)\n",
    "print(new_id)"
   ]
  },
  {
   "cell_type": "code",
   "execution_count": 30,
   "id": "578a8096-2007-4f2e-bfaf-9ea7135cc1ce",
   "metadata": {},
   "outputs": [
    {
     "name": "stdout",
     "output_type": "stream",
     "text": [
      "2290694303920\n",
      "2290687696592\n"
     ]
    }
   ],
   "source": [
    "a = 5.14\n",
    "initial_id = id(a)\n",
    "print(initial_id)\n",
    "\n",
    "a = 10.6\n",
    "new_id = id(a)\n",
    "print(new_id)"
   ]
  },
  {
   "cell_type": "code",
   "execution_count": 31,
   "id": "99b3491c-49e8-4ed3-a7fb-c2d1ecbdd366",
   "metadata": {},
   "outputs": [
    {
     "name": "stdout",
     "output_type": "stream",
     "text": [
      "2290684902736\n",
      "2290690409264\n"
     ]
    }
   ],
   "source": [
    "a = \"hello\"\n",
    "initial_id = id(a)\n",
    "print(initial_id)\n",
    "\n",
    "a = \"world\"\n",
    "new_id = id(a)\n",
    "print(new_id)\n"
   ]
  },
  {
   "cell_type": "code",
   "execution_count": 32,
   "id": "b54879de-c476-450a-8ec7-3a157e549990",
   "metadata": {},
   "outputs": [
    {
     "name": "stdout",
     "output_type": "stream",
     "text": [
      "123\n",
      "123\n",
      "123.0\n",
      "123\n"
     ]
    }
   ],
   "source": [
    "#type conversion\n",
    "\n",
    "x = 123\n",
    "y = int(x)\n",
    "z = float(x)\n",
    "s = str(x)\n",
    "\n",
    "print(x)\n",
    "print(y)\n",
    "print(z)\n",
    "print(s)"
   ]
  },
  {
   "cell_type": "code",
   "execution_count": 33,
   "id": "b3f0c6d4-678c-49a1-ac5c-6b253e70a6e1",
   "metadata": {},
   "outputs": [
    {
     "name": "stdout",
     "output_type": "stream",
     "text": [
      "246.0\n"
     ]
    }
   ],
   "source": [
    "m = x + z\n",
    "print(m)"
   ]
  },
  {
   "cell_type": "code",
   "execution_count": 40,
   "id": "bf07a21f-d8a7-48c1-b387-79cc4ce707be",
   "metadata": {},
   "outputs": [
    {
     "name": "stdout",
     "output_type": "stream",
     "text": [
      "An error occurred: invalid literal for int() with base 10: 'abc'\n"
     ]
    }
   ],
   "source": [
    "try:\n",
    "    x = \"abc\"\n",
    "    y = int(x)\n",
    "except Exception as e:\n",
    "    print(f\"An error occurred: {e}\")"
   ]
  },
  {
   "cell_type": "code",
   "execution_count": 41,
   "id": "a17bf654-174f-4067-b86b-ad1f5d3551a4",
   "metadata": {},
   "outputs": [
    {
     "name": "stdin",
     "output_type": "stream",
     "text": [
      "enter a text:  hello world\n"
     ]
    },
    {
     "name": "stdout",
     "output_type": "stream",
     "text": [
      "hello\n"
     ]
    }
   ],
   "source": [
    "text = input(\"enter a text: \" )\n",
    "print(text[0:5])\n"
   ]
  },
  {
   "cell_type": "code",
   "execution_count": 43,
   "id": "f6c81afb-2eb6-48c6-bc8a-f30192e5e5d1",
   "metadata": {},
   "outputs": [
    {
     "name": "stdout",
     "output_type": "stream",
     "text": [
      "world\n"
     ]
    }
   ],
   "source": [
    "print(text[6:])"
   ]
  },
  {
   "cell_type": "code",
   "execution_count": 44,
   "id": "eacde9a1-d43d-4ab7-ac42-36490bedb901",
   "metadata": {},
   "outputs": [
    {
     "name": "stdout",
     "output_type": "stream",
     "text": [
      "hello\n"
     ]
    }
   ],
   "source": [
    "print(text[:5])"
   ]
  },
  {
   "cell_type": "code",
   "execution_count": 45,
   "id": "c78c2c0b-65c3-49a7-8e5c-c3655787af62",
   "metadata": {},
   "outputs": [
    {
     "name": "stdout",
     "output_type": "stream",
     "text": [
      "hlowrd\n"
     ]
    }
   ],
   "source": [
    "print(text[::2])"
   ]
  },
  {
   "cell_type": "code",
   "execution_count": 46,
   "id": "041ae6b1-935c-4ea5-81f5-9a3fd5380fe5",
   "metadata": {},
   "outputs": [
    {
     "name": "stdout",
     "output_type": "stream",
     "text": [
      "dlrow olleh\n"
     ]
    }
   ],
   "source": [
    "print(text[::-1])"
   ]
  },
  {
   "cell_type": "code",
   "execution_count": 47,
   "id": "d1515899-3321-41fa-bd55-b07cb6587600",
   "metadata": {},
   "outputs": [
    {
     "name": "stdout",
     "output_type": "stream",
     "text": [
      "hlwl\n"
     ]
    }
   ],
   "source": [
    "print(text[0::3])"
   ]
  },
  {
   "cell_type": "code",
   "execution_count": 48,
   "id": "0f4959ef-dd69-4829-a46b-fba4afd3be06",
   "metadata": {},
   "outputs": [
    {
     "name": "stdout",
     "output_type": "stream",
     "text": [
      "hlowrd\n"
     ]
    }
   ],
   "source": [
    "print(text[0::2])"
   ]
  },
  {
   "cell_type": "code",
   "execution_count": 49,
   "id": "3c2a3ff5-1a7c-450a-967b-e46cb8915b7b",
   "metadata": {},
   "outputs": [
    {
     "name": "stdout",
     "output_type": "stream",
     "text": [
      "hr\n"
     ]
    }
   ],
   "source": [
    "print(text[0::8])"
   ]
  },
  {
   "cell_type": "code",
   "execution_count": 50,
   "id": "d982b4fb-99d7-4d87-8895-4cdcc50e8f5a",
   "metadata": {},
   "outputs": [
    {
     "name": "stdout",
     "output_type": "stream",
     "text": [
      "l\n"
     ]
    }
   ],
   "source": [
    "print(text[3::8])"
   ]
  },
  {
   "cell_type": "code",
   "execution_count": 52,
   "id": "429994fa-446e-42af-916b-b22b1fcd0cec",
   "metadata": {},
   "outputs": [
    {
     "name": "stdout",
     "output_type": "stream",
     "text": [
      "Hello, World !\n",
      "Hello, World!\n"
     ]
    }
   ],
   "source": [
    "string1 = \"Hello\"\n",
    "string2 = \"World\"\n",
    "combine = \", \".join([string1,string2]) + \" !\"\n",
    "\n",
    "print(combine)\n",
    "\n",
    "combine = f\"{string1}, {string2}!\"\n",
    "print(combine)\n"
   ]
  },
  {
   "cell_type": "code",
   "execution_count": 53,
   "id": "1e2ddc18-cbd5-4e7d-817c-83c123b07249",
   "metadata": {},
   "outputs": [
    {
     "name": "stdout",
     "output_type": "stream",
     "text": [
      "Hello, World!\n"
     ]
    }
   ],
   "source": [
    "combine = \"{}, {}!\".format(string1, string2)\n",
    "print(combine)"
   ]
  },
  {
   "cell_type": "code",
   "execution_count": 55,
   "id": "1b31e05a-fb23-41e0-a935-f0de862bf3bc",
   "metadata": {},
   "outputs": [
    {
     "name": "stdout",
     "output_type": "stream",
     "text": [
      "Hello, World!\n"
     ]
    }
   ],
   "source": [
    "combine = \"%s, %s!\" % (string1, string2)\n",
    "print(combine)"
   ]
  },
  {
   "cell_type": "code",
   "execution_count": 56,
   "id": "8ef8e2d9-bf4d-4795-94c7-fa8fd34590ff",
   "metadata": {},
   "outputs": [
    {
     "name": "stdout",
     "output_type": "stream",
     "text": [
      "HelloHelloHello\n"
     ]
    }
   ],
   "source": [
    "repeat = string1 * 3\n",
    "print(repeat)"
   ]
  },
  {
   "cell_type": "code",
   "execution_count": null,
   "id": "b48a20e2-323c-4fb6-9ddc-1893f434279b",
   "metadata": {},
   "outputs": [],
   "source": []
  }
 ],
 "metadata": {
  "kernelspec": {
   "display_name": "Python 3 (ipykernel)",
   "language": "python",
   "name": "python3"
  },
  "language_info": {
   "codemirror_mode": {
    "name": "ipython",
    "version": 3
   },
   "file_extension": ".py",
   "mimetype": "text/x-python",
   "name": "python",
   "nbconvert_exporter": "python",
   "pygments_lexer": "ipython3",
   "version": "3.13.0"
  }
 },
 "nbformat": 4,
 "nbformat_minor": 5
}
